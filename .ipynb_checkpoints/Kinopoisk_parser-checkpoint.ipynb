{
 "cells": [
  {
   "cell_type": "code",
   "execution_count": 3,
   "metadata": {},
   "outputs": [],
   "source": [
    "import requests\n",
    "from bs4 import BeautifulSoup\n",
    "\n",
    "url = 'https://www.kinopoisk.ru/awards/oscar/2021/' # url страницы\n",
    "r = requests.get(url)\n",
    "r.encoding = 'utf-8'  # указываем правильную кодировку принудительно\n",
    "soup = BeautifulSoup(r.text) #Отправляем полученную страницу в библиотеку для парсинга\n",
    "tables=soup.find_all('td') #Получаем все таблицы с вопросами\n",
    "# tables=soup.find_all('td', {'class': 'news'}) #Получаем все таблицы с вопросами\n",
    "\n",
    "nom_name_lst_0 = []\n",
    "nom_name_lst = []\n",
    "\n",
    "for item in tables:\n",
    "    if item.get('class') == ['news']:\n",
    "        nom_name_lst_0.append(item.get_text())\n",
    "        \n",
    "for numb, elem in enumerate(nom_name_lst_0):\n",
    "    if numb%2:\n",
    "        nom_name_lst.append(elem)\n",
    "nom_name_lst.pop()\n",
    "\n",
    "for item in tables:\n",
    "    if item.get('class') == ['news']:\n",
    "        nom_name_lst_0.append(item.get_text())"
   ]
  },
  {
   "cell_type": "code",
   "execution_count": null,
   "metadata": {},
   "outputs": [],
   "source": []
  },
  {
   "cell_type": "code",
   "execution_count": 97,
   "metadata": {},
   "outputs": [],
   "source": []
  },
  {
   "cell_type": "code",
   "execution_count": 148,
   "metadata": {},
   "outputs": [
    {
     "data": {
      "text/plain": [
       "<ul class=\"_3wIUiVfN7rcwZ7cuKoJgXj footer-partial-component__bottom-links\"><li class=\"_2i7eENp6Wyq1HdC-nHBOTF footer-partial-component__bottom-item\" data-tid=\"823ccd16\"><a class=\"cRvHwcsPdv3QfjsgVV4be footer-partial-component__bottom-link\" data-tid=\"a7b9869c\" href=\"https://tv.yandex.ru\" target=\"_blank\">Телепрограмма</a></li><li class=\"_2i7eENp6Wyq1HdC-nHBOTF footer-partial-component__bottom-item\" data-tid=\"823ccd16\"><a class=\"cRvHwcsPdv3QfjsgVV4be footer-partial-component__bottom-link\" data-tid=\"a7b9869c\" href=\"https://music.yandex.ru\" target=\"_blank\">Музыка</a></li><li class=\"_2i7eENp6Wyq1HdC-nHBOTF footer-partial-component__bottom-item\" data-tid=\"823ccd16\"><a class=\"cRvHwcsPdv3QfjsgVV4be footer-partial-component__bottom-link\" data-tid=\"a7b9869c\" href=\"https://afisha.yandex.ru\" target=\"_blank\">Афиша</a></li></ul>"
      ]
     },
     "execution_count": 148,
     "metadata": {},
     "output_type": "execute_result"
    }
   ],
   "source": [
    "tab_ul[-1]"
   ]
  },
  {
   "cell_type": "code",
   "execution_count": 47,
   "metadata": {},
   "outputs": [],
   "source": [
    "nom_lst_lst = []\n",
    "ref_lst_lst = []\n",
    "\n",
    "tab_ul=soup.find_all('ul')\n",
    "\n",
    "for tab in tab_ul[:-2]:\n",
    "\n",
    "    item_lst = []\n",
    "    film_lst = []\n",
    "    film_ref = []\n",
    "    \n",
    "    for item in tab.children:\n",
    "        item_lst.append(item)\n",
    "\n",
    "    for lin in item_lst[1:-1]:\n",
    "        film_ref.append(lin.find_all('a')[0].get('href'))\n",
    "        film_lst.append(lin.get_text())\n",
    "        \n",
    "    ref_lst_lst.append(film_ref)\n",
    "    nom_lst_lst.append(film_lst)"
   ]
  },
  {
   "cell_type": "code",
   "execution_count": null,
   "metadata": {},
   "outputs": [],
   "source": []
  },
  {
   "cell_type": "code",
   "execution_count": 37,
   "metadata": {},
   "outputs": [
    {
     "data": {
      "text/plain": [
       "'/film/1175592/'"
      ]
     },
     "execution_count": 37,
     "metadata": {},
     "output_type": "execute_result"
    }
   ],
   "source": [
    "lin.find_all('a')[0].get('href')"
   ]
  },
  {
   "cell_type": "code",
   "execution_count": null,
   "metadata": {},
   "outputs": [],
   "source": [
    "lin.get('href')"
   ]
  },
  {
   "cell_type": "code",
   "execution_count": null,
   "metadata": {},
   "outputs": [],
   "source": []
  },
  {
   "cell_type": "code",
   "execution_count": 124,
   "metadata": {},
   "outputs": [
    {
     "data": {
      "text/plain": [
       "<a class=\"all\" href=\"/film/1236567/\">Девушка, подающая надежды</a>"
      ]
     },
     "execution_count": 124,
     "metadata": {},
     "output_type": "execute_result"
    }
   ],
   "source": [
    "i_lst[0]"
   ]
  },
  {
   "cell_type": "code",
   "execution_count": 126,
   "metadata": {},
   "outputs": [
    {
     "data": {
      "text/plain": [
       "'/film/1236567/'"
      ]
     },
     "execution_count": 126,
     "metadata": {},
     "output_type": "execute_result"
    }
   ],
   "source": [
    "i_lst[0].get('href')"
   ]
  },
  {
   "cell_type": "code",
   "execution_count": 20,
   "metadata": {},
   "outputs": [],
   "source": [
    "film_lst = ['Девушка, подающая надежды',\n",
    "            'Иуда и чёрный мессия',\n",
    "            'Суд над чикагской семеркой',\n",
    "            'Звук металла',\n",
    "            'Минари']"
   ]
  },
  {
   "cell_type": "code",
   "execution_count": null,
   "metadata": {},
   "outputs": [],
   "source": []
  },
  {
   "cell_type": "code",
   "execution_count": 56,
   "metadata": {},
   "outputs": [],
   "source": [
    "# создание markdown\n",
    "\n",
    "Line_0 = '# Номинанты на оскар 2021 \\n'\n",
    "\n",
    "file = open(\"Nominations.md\", \"w\", encoding='utf8')\n",
    "\n",
    "file.write(Line_0)\n",
    "for nom_name, nom_lst, ref_lst in zip(nom_name_lst, nom_lst_lst, ref_lst_lst):\n",
    "    file.write('### ' + str(nom_name) + '\\n')\n",
    "    for nom, ref in zip(nom_lst, ref_lst):\n",
    "        film_name = nom.split('\\n')\n",
    "        nom_text = '[' + str(film_name[0]) + ' (' + str(film_name[1][:-2]) + ')]'\n",
    "        ref_text = '(https://www.kinopoisk.ru' + str(ref) + ')'\n",
    "        file.write('* ' + nom_text + ref_text + '\\n')\n",
    "    file.write('\\n')\n",
    "file.close()"
   ]
  },
  {
   "cell_type": "code",
   "execution_count": 62,
   "metadata": {},
   "outputs": [],
   "source": [
    "# запись в конец Latex документа с подготовленными настройками\n",
    "\n",
    "Line_1 = 'русский \\n'\n",
    "Line_End = '\\end{multicols}\\n\\end{document}'\n",
    "\n",
    "file = open(\"Nominations.tex\", \"a\", encoding='utf8')\n",
    "\n",
    "for nom_name, nom_lst, ref_lst in zip(nom_name_lst, nom_lst_lst, ref_lst_lst):\n",
    "    file.write('\\section{' + str(nom_name) + '}\\n\\n')\n",
    "    file.write(r'\\begin{itemize}' + '\\n')\n",
    "               \n",
    "    for nom, ref in zip(nom_lst, ref_lst):\n",
    "        film_name = nom.split('\\n')\n",
    "        nom_text = str(film_name[0]) + '\\newline\\textit{(' + str(film_name[1][:-2]) + ')}'\n",
    "        file.write('\t\\item ' + nom_text + '\\n')\n",
    "            \n",
    "    file.write('\\end{itemize}\\n\\n')\n",
    "\n",
    "file.write(Line_End)\n",
    "\n",
    "file.close()"
   ]
  },
  {
   "cell_type": "code",
   "execution_count": null,
   "metadata": {},
   "outputs": [],
   "source": []
  },
  {
   "cell_type": "code",
   "execution_count": 94,
   "metadata": {},
   "outputs": [
    {
     "data": {
      "text/plain": [
       "<td class=\"news\" colspan=\"2\" height=\"40\" style=\"color: #f60\"><a name=\"nom1840\"></a><b>Лучшая мужская роль<!-- 1840 --></b></td>"
      ]
     },
     "execution_count": 94,
     "metadata": {},
     "output_type": "execute_result"
    }
   ],
   "source": [
    "tables[37]"
   ]
  },
  {
   "cell_type": "code",
   "execution_count": 102,
   "metadata": {},
   "outputs": [
    {
     "data": {
      "text/plain": [
       "<td class=\"news\" colspan=\"2\" style=\"padding-top:15px;color:#777\">Номинанты:</td>"
      ]
     },
     "execution_count": 102,
     "metadata": {},
     "output_type": "execute_result"
    }
   ],
   "source": [
    "tables[39]"
   ]
  },
  {
   "cell_type": "code",
   "execution_count": 42,
   "metadata": {},
   "outputs": [
    {
     "data": {
      "text/plain": [
       "<td colspan=\"2\" style=\"padding:5px;padding-left:60px\">\n",
       "<ul class=\"trivia\">\n",
       "<li class=\"trivia\"><a class=\"all\" href=\"/name/4173614/\">Андра Дэй</a> — <a class=\"all\" href=\"/film/1302121/\">Соединённые Штаты против Билли Холидей</a><br/>\n",
       "<span style=\"color:#999\">Andra Day — The United States vs. Billie Holiday  </span>\n",
       "</li><li class=\"trivia\"><a class=\"all\" href=\"/name/7222/\">Фрэнсис МакДорманд</a> — <a class=\"all\" href=\"/film/1238506/\">Земля кочевников</a><br/>\n",
       "<span style=\"color:#999\">Frances McDormand — Nomadland  </span>\n",
       "</li><li class=\"trivia\"><a class=\"all\" href=\"/name/37058/\">Виола Дэвис</a> — <a class=\"all\" href=\"/film/1281709/\">Ма Рейни: Мать блюза</a><br/>\n",
       "<span style=\"color:#999\">Viola Davis — Ma Rainey's Black Bottom  </span>\n",
       "</li><li class=\"trivia\"><a class=\"all\" href=\"/name/573710/\">Кэри Маллиган</a> — <a class=\"all\" href=\"/film/1236567/\">Девушка, подающая надежды</a><br/>\n",
       "<span style=\"color:#999\">Carey Mulligan — Promising Young Woman  </span>\n",
       "</li><li class=\"trivia\"><a class=\"all\" href=\"/name/2211756/\">Ванесса Кирби</a> — <a class=\"all\" href=\"/film/1319100/\">Фрагменты женщины</a><br/>\n",
       "<span style=\"color:#999\">Vanessa Kirby — Pieces of a Woman  </span>\n",
       "</li>\n",
       "</ul>\n",
       "</td>"
      ]
     },
     "execution_count": 42,
     "metadata": {},
     "output_type": "execute_result"
    }
   ],
   "source": [
    "tables[44]"
   ]
  },
  {
   "cell_type": "code",
   "execution_count": 36,
   "metadata": {},
   "outputs": [
    {
     "data": {
      "text/plain": [
       "223"
      ]
     },
     "execution_count": 36,
     "metadata": {},
     "output_type": "execute_result"
    }
   ],
   "source": [
    "len(tables)"
   ]
  },
  {
   "cell_type": "code",
   "execution_count": null,
   "metadata": {},
   "outputs": [],
   "source": []
  }
 ],
 "metadata": {
  "kernelspec": {
   "display_name": "Python 3",
   "language": "python",
   "name": "python3"
  },
  "language_info": {
   "codemirror_mode": {
    "name": "ipython",
    "version": 3
   },
   "file_extension": ".py",
   "mimetype": "text/x-python",
   "name": "python",
   "nbconvert_exporter": "python",
   "pygments_lexer": "ipython3",
   "version": "3.7.6"
  }
 },
 "nbformat": 4,
 "nbformat_minor": 4
}
